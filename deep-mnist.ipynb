{
 "cells": [
  {
   "cell_type": "code",
   "execution_count": 1,
   "metadata": {
    "collapsed": false
   },
   "outputs": [
    {
     "name": "stdout",
     "output_type": "stream",
     "text": [
      "Extracting MNIST_data/train-images-idx3-ubyte.gz\n",
      "Extracting MNIST_data/train-labels-idx1-ubyte.gz\n",
      "Extracting MNIST_data/t10k-images-idx3-ubyte.gz\n",
      "Extracting MNIST_data/t10k-labels-idx1-ubyte.gz\n"
     ]
    }
   ],
   "source": [
    "import tensorflow as tf # Import library\n",
    "from tensorflow.examples.tutorials.mnist import input_data # Import dataset\n",
    "\n",
    "mnist = input_data.read_data_sets('MNIST_data', one_hot=True) # Handle to the MNIST data object\n",
    "sess = tf.InteractiveSession() # Allows us to run variables without referring to a session object\n",
    "\n",
    "x = tf.placeholder(tf.float32, shape=[None, 784]) # Empty variable to put samples at runtime\n",
    "y_ = tf.placeholder(tf.float32, shape=[None, 10]) # Empty variable to put sample responses at runtime"
   ]
  },
  {
   "cell_type": "code",
   "execution_count": 2,
   "metadata": {
    "collapsed": true
   },
   "outputs": [],
   "source": [
    "# Weight initialization\n",
    "# If all weights were the same, then the cost gradient w.r.t. to each each of them would be the same,\n",
    "# resulting in them all updating in the same way\n",
    "def weight_variable(shape): # Weight filters \n",
    "    initial = tf.truncated_normal(shape, stddev=0.25)\n",
    "    return tf.Variable(initial) # initialized with norm dist to avoid 'dead neurons' and 'symmetry breaking'\n",
    "\n",
    "# Bias variable can be initialised at zero, but better results can be gotten this way\n",
    "def bias_variable(shape):\n",
    "    initial = tf.truncated_normal(shape=shape, stddev=0.25)\n",
    "    return tf.Variable(initial)"
   ]
  },
  {
   "cell_type": "code",
   "execution_count": 3,
   "metadata": {
    "collapsed": true
   },
   "outputs": [],
   "source": [
    "# Convolution and Pooling\n",
    "def conv2d(x, W): # Computes dot product of W with x with each xi centered in W, returns matrix\n",
    "    return tf.nn.conv2d(x, W, strides=[1, 1, 1, 1], padding='SAME') # SAME padding -> input and output have same dim.\n",
    "\n",
    "def max_pool_2x2(x): # Downsamples activation result by a factor of 2\n",
    "    return tf.nn.max_pool(x, ksize=[1, 2, 2, 1], strides=[1, 2, 2, 1], padding='SAME')"
   ]
  },
  {
   "cell_type": "code",
   "execution_count": 4,
   "metadata": {
    "collapsed": false
   },
   "outputs": [],
   "source": [
    "# First convolutional layer\n",
    "W_conv1 = weight_variable([5, 5, 1, 48]) # Kernel size is 3x3, 32 filters (->32*28*28 = 25 000 input features to layer 1)\n",
    "b_conv1 = bias_variable([48]) # Bias for each filter\n",
    "\n",
    "# To apply the layer we built above, we need to reshape x to a 4D tensor\n",
    "x_image = tf.reshape(x, [-1, 28, 28, 1]) # -1 corresponds to untouches dim of x (# samples), 1 output color channel\n",
    "h_conv1 = tf.nn.relu(conv2d(x_image, W_conv1) + b_conv1) # Apply activation function to biased convolution result\n",
    "h_pool1 = max_pool_2x2(h_conv1) # Pool convolution result to a 14x14 image"
   ]
  },
  {
   "cell_type": "code",
   "execution_count": 5,
   "metadata": {
    "collapsed": false
   },
   "outputs": [],
   "source": [
    "# Second convolutional layer\n",
    "W_conv2 = weight_variable([5, 5, 48, 96]) # 3 kernel width, 3 kernel height, 32 kernel depth, 64 filters\n",
    "b_conv2 = bias_variable([96]) # 64 weights, one for each filter\n",
    "\n",
    "h_conv2 = tf.nn.relu(conv2d(h_pool1, W_conv2) + b_conv2)  # Apply activation to biased conv. result\n",
    "h_pool2 = max_pool_2x2(h_conv2) # Pool result to produce a 7x7x64 output volume"
   ]
  },
  {
   "cell_type": "code",
   "execution_count": 6,
   "metadata": {
    "collapsed": false
   },
   "outputs": [],
   "source": [
    "# Densely connected layers\n",
    "W_fc1 = weight_variable([7 * 7 * 96, 1024]) # Fully connected layer - 1024 filters, convolution with entire volume\n",
    "b_fc1 = bias_variable([1024]) # One bias for each filter\n",
    "\n",
    "h_pool2_flat = tf.reshape(h_pool2, [-1, 7*7*96]) # Reshape output from second layer to a 1D structure\n",
    "h_fc1 = tf.nn.relu(tf.matmul(h_pool2_flat, W_fc1) + b_fc1) # Matmul is conv as filter dim = input dim"
   ]
  },
  {
   "cell_type": "code",
   "execution_count": 7,
   "metadata": {
    "collapsed": true
   },
   "outputs": [],
   "source": [
    "# Dropout\n",
    "# - to reduce overfitting\n",
    "# create a placeholder for the probabilitiy that a neuron's output is kept during dropout\n",
    "keep_prob = tf.placeholder(tf.float32)\n",
    "h_fc1_drop = tf.nn.dropout(h_fc1, keep_prob)"
   ]
  },
  {
   "cell_type": "code",
   "execution_count": 8,
   "metadata": {
    "collapsed": true
   },
   "outputs": [],
   "source": [
    "# Readout layer\n",
    "W_fc2 = weight_variable([1024, 10]) # One weight filter for each response class\n",
    "b_fc2 = bias_variable([10])\n",
    "\n",
    "y_conv = tf.matmul(h_fc1_drop, W_fc2) + b_fc2 # Proportional to class probability -> normalized in softmax step"
   ]
  },
  {
   "cell_type": "code",
   "execution_count": 9,
   "metadata": {
    "collapsed": true
   },
   "outputs": [],
   "source": [
    "# Saving\n",
    "saver = tf.train.Saver()"
   ]
  },
  {
   "cell_type": "code",
   "execution_count": 10,
   "metadata": {
    "collapsed": true
   },
   "outputs": [],
   "source": [
    "cross_entropy = tf.reduce_mean(tf.nn.softmax_cross_entropy_with_logits(y_conv, y_)) # Nice cost function\n",
    "train_step = tf.train.AdamOptimizer(1e-4).minimize(cross_entropy) # Gradient descent on cost function\n",
    "correct_prediction = tf.equal(tf.argmax(y_conv, 1), tf.argmax(y_, 1)) # Prediction accuracy vector\n",
    "accuracy = tf.reduce_mean(tf.cast(correct_prediction, tf.float32)) # Mean accuracy\n",
    "sess.run(tf.initialize_all_variables())"
   ]
  },
  {
   "cell_type": "code",
   "execution_count": 11,
   "metadata": {
    "collapsed": false
   },
   "outputs": [
    {
     "name": "stdout",
     "output_type": "stream",
     "text": [
      "Step 0, training accuracy 0.05\n",
      "Step 100, training accuracy 0.6\n",
      "Step 200, training accuracy 0.9\n",
      "Step 300, training accuracy 0.95\n",
      "Step 400, training accuracy 0.8\n",
      "Step 500, training accuracy 0.9\n",
      "Step 600, training accuracy 0.85\n",
      "Step 700, training accuracy 0.9\n",
      "Step 800, training accuracy 0.9\n",
      "Step 900, training accuracy 0.95\n",
      "Step 1000, training accuracy 0.9\n",
      "Step 1100, training accuracy 1\n",
      "Step 1200, training accuracy 1\n",
      "Step 1300, training accuracy 0.9\n",
      "Step 1400, training accuracy 0.9\n",
      "Step 1500, training accuracy 1\n",
      "Step 1600, training accuracy 1\n",
      "Step 1700, training accuracy 1\n",
      "Step 1800, training accuracy 1\n",
      "Step 1900, training accuracy 0.95\n",
      "Step 2000, training accuracy 0.9\n",
      "Step 2100, training accuracy 0.9\n",
      "Step 2200, training accuracy 0.85\n",
      "Step 2300, training accuracy 0.95\n",
      "Step 2400, training accuracy 0.8\n",
      "Step 2500, training accuracy 1\n",
      "Step 2600, training accuracy 0.95\n",
      "Step 2700, training accuracy 1\n",
      "Step 2800, training accuracy 1\n",
      "Step 2900, training accuracy 1\n",
      "Step 3000, training accuracy 0.95\n",
      "Step 3100, training accuracy 0.95\n",
      "Step 3200, training accuracy 1\n",
      "Step 3300, training accuracy 1\n",
      "Step 3400, training accuracy 0.95\n",
      "Step 3500, training accuracy 1\n",
      "Step 3600, training accuracy 0.95\n",
      "Step 3700, training accuracy 1\n",
      "Step 3800, training accuracy 0.9\n",
      "Step 3900, training accuracy 0.95\n",
      "Step 4000, training accuracy 0.85\n",
      "Step 4100, training accuracy 1\n",
      "Step 4200, training accuracy 1\n",
      "Step 4300, training accuracy 0.95\n",
      "Step 4400, training accuracy 0.95\n",
      "Step 4500, training accuracy 0.9\n",
      "Step 4600, training accuracy 0.95\n",
      "Step 4700, training accuracy 1\n",
      "Step 4800, training accuracy 0.9\n",
      "Step 4900, training accuracy 0.95\n",
      "Step 5000, training accuracy 1\n",
      "Step 5100, training accuracy 0.9\n",
      "Step 5200, training accuracy 1\n",
      "Step 5300, training accuracy 0.9\n",
      "Step 5400, training accuracy 0.95\n",
      "Step 5500, training accuracy 1\n",
      "Step 5600, training accuracy 0.85\n",
      "Step 5700, training accuracy 1\n",
      "Step 5800, training accuracy 1\n",
      "Step 5900, training accuracy 0.95\n",
      "Step 6000, training accuracy 0.85\n",
      "Step 6100, training accuracy 1\n",
      "Step 6200, training accuracy 0.9\n",
      "Step 6300, training accuracy 1\n",
      "Step 6400, training accuracy 0.95\n",
      "Step 6500, training accuracy 0.95\n",
      "Step 6600, training accuracy 1\n",
      "Step 6700, training accuracy 0.95\n",
      "Step 6800, training accuracy 1\n",
      "Step 6900, training accuracy 1\n",
      "Step 7000, training accuracy 0.95\n",
      "Step 7100, training accuracy 0.95\n",
      "Step 7200, training accuracy 1\n",
      "Step 7300, training accuracy 0.95\n",
      "Step 7400, training accuracy 0.9\n",
      "Step 7500, training accuracy 0.9\n",
      "Step 7600, training accuracy 1\n",
      "Step 7700, training accuracy 1\n",
      "Step 7800, training accuracy 0.85\n",
      "Step 7900, training accuracy 0.95\n",
      "Step 8000, training accuracy 1\n",
      "Step 8100, training accuracy 0.95\n",
      "Step 8200, training accuracy 0.95\n",
      "Step 8300, training accuracy 1\n",
      "Step 8400, training accuracy 1\n",
      "Step 8500, training accuracy 1\n",
      "Step 8600, training accuracy 1\n",
      "Step 8700, training accuracy 0.95\n",
      "Step 8800, training accuracy 1\n",
      "Step 8900, training accuracy 0.95\n",
      "Step 9000, training accuracy 1\n",
      "Step 9100, training accuracy 1\n",
      "Step 9200, training accuracy 1\n",
      "Step 9300, training accuracy 1\n",
      "Step 9400, training accuracy 1\n",
      "Step 9500, training accuracy 0.85\n",
      "Step 9600, training accuracy 0.95\n",
      "Step 9700, training accuracy 0.95\n",
      "Step 9800, training accuracy 0.95\n",
      "Step 9900, training accuracy 1\n"
     ]
    }
   ],
   "source": [
    "for i in range(10000):\n",
    "    batch = mnist.train.next_batch(20) # Minibatch gradient descent is more RAM-friendly\n",
    "    if i%100 == 0:\n",
    "        train_accuracy = accuracy.eval(feed_dict={x:batch[0], y_:batch[1], keep_prob:1.0})\n",
    "        print('Step %d, training accuracy %g'%(i, train_accuracy))\n",
    "    if i%1000 == 0:\n",
    "        saver.save(sess, \"model.ckpt\")\n",
    "    train_step.run(feed_dict={x:batch[0], y_:batch[1], keep_prob:0.5})"
   ]
  },
  {
   "cell_type": "code",
   "execution_count": 13,
   "metadata": {
    "collapsed": false
   },
   "outputs": [
    {
     "name": "stdout",
     "output_type": "stream",
     "text": [
      "test accuracy 0.959667\n"
     ]
    }
   ],
   "source": [
    "print('test accuracy %g'%accuracy.eval(feed_dict={x:mnist.test.images[0:3000],\n",
    "                                                  y_:mnist.test.labels[0:3000],\n",
    "                                                  keep_prob:1.0}))"
   ]
  },
  {
   "cell_type": "code",
   "execution_count": 33,
   "metadata": {
    "collapsed": false
   },
   "outputs": [],
   "source": [
    "# Import Kaggle mnist test data\n",
    "import pandas as pd\n",
    "import numpy as np\n",
    "\n",
    "test_data = pd.read_csv('./data/test.csv')\n",
    "test_data = test_data.as_matrix()\n",
    "test_data = np.array([np.reshape(row, [28, 28]) for row in test_data])"
   ]
  },
  {
   "cell_type": "code",
   "execution_count": null,
   "metadata": {
    "collapsed": true
   },
   "outputs": [],
   "source": [
    "y_conv.eval(feed_dict={x:mnist.test.images, y_:mnist.test.labels, keep_prob:1.0})"
   ]
  }
 ],
 "metadata": {
  "anaconda-cloud": {},
  "kernelspec": {
   "display_name": "Python [default]",
   "language": "python",
   "name": "python3"
  },
  "language_info": {
   "codemirror_mode": {
    "name": "ipython",
    "version": 3
   },
   "file_extension": ".py",
   "mimetype": "text/x-python",
   "name": "python",
   "nbconvert_exporter": "python",
   "pygments_lexer": "ipython3",
   "version": "3.5.2"
  }
 },
 "nbformat": 4,
 "nbformat_minor": 1
}
