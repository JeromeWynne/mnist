{
 "cells": [
  {
   "cell_type": "markdown",
   "metadata": {},
   "source": [
    "$$ \\text{softmax(x)}_i = \\text{normalize}(\\text{exp(}x_i)) $$"
   ]
  },
  {
   "cell_type": "markdown",
   "metadata": {},
   "source": [
    "$$ Wx + b = y $$\n",
    "for each observation. W is a weighting matrix, x is a single sample (a vector of feature values), b is a bias (prior probability), y is a vector of class membership scores."
   ]
  },
  {
   "cell_type": "markdown",
   "metadata": {},
   "source": [
    "The exponential always produces a value greater than zero for all $x_i$, and means that increases in evidence stack multiplicatively (rather than additively)."
   ]
  },
  {
   "cell_type": "code",
   "execution_count": 3,
   "metadata": {
    "collapsed": false
   },
   "outputs": [
    {
     "name": "stdout",
     "output_type": "stream",
     "text": [
      "Extracting MNIST_data/train-images-idx3-ubyte.gz\n",
      "Extracting MNIST_data/train-labels-idx1-ubyte.gz\n",
      "Extracting MNIST_data/t10k-images-idx3-ubyte.gz\n",
      "Extracting MNIST_data/t10k-labels-idx1-ubyte.gz\n"
     ]
    }
   ],
   "source": [
    "import tensorflow as tf\n",
    "\n",
    "# Create tensorflow data object\n",
    "from tensorflow.examples.tutorials.mnist import input_data\n",
    "mnist = input_data.read_data_sets(\"MNIST_data/\", one_hot=True) # labels are one-hot encoded\n",
    "\n",
    "# Build Graph #\n",
    "#-------------#\n",
    "x = tf.placeholder(tf.float32, shape=[None, 784]) # 'None' means the dimension can be of any length\n",
    "W = tf.Variable(tf.zeros([784, 10])) # Remember that the response is a one-hot encoded vector -> a matrix\n",
    "b = tf.Variable(tf.zeros([10])) # bias is towards classes \n",
    "\n",
    "y = tf.nn.softmax(tf.matmul(x, W) + b) # matrix, each row is a  vector of predicted class membership probabilities\n",
    "# Weights matrix is a p x m, with m being equal to the number of possible classes x could belong to and\n",
    "# p being equal to the number of features per observation\n",
    "# The biases suggest prior class membership - consequently there are m of these\n",
    "# x is an n x p matrix of observations\n",
    "\n",
    "# Note that  W is applied to each row in x to return a vector of estimated class membership probabilities\n",
    "# - the same W is applied to all samples (as is the same b).\n",
    "# W and b are tuned to minimize the classification error.\n",
    "\n",
    "y_ = tf.placeholder(tf.float32, [None, 10]) # True classes\n",
    "cross_entropy = tf.reduce_mean(-tf.reduce_sum(y_ * tf.log(y), reduction_indices=[1]))\n",
    "#reduction indices=1 indicates to sum in the 2nd dimension of y\n",
    "# tf.reduce_mean() computes the mean over all samples in the batch (mean cross-entropy)\n",
    "\n",
    "train_step = tf.train.GradientDescentOptimizer(0.5).minimize(cross_entropy)\n",
    "# Ask tensorflow to minimize cross-entropy using the gradient descent algorithm, with a learning rate of 0.5.\n",
    "# Gradient descent shifts each variable a little bit in the direction that reduces the cost.\n",
    "# There are many other optimization tools in TensorFlow.\n",
    "\n",
    "# As for how this step is influencing the TensorFlow graph - it adds backpropagation and gradient descent\n",
    "# operations. The variable returned is an operation that, when run, implements one step of gradient descent.\n",
    "\n",
    "init = tf.initialize_all_variables()\n"
   ]
  },
  {
   "cell_type": "markdown",
   "metadata": {},
   "source": [
    "$$ H_{y'}(y) = -\\sum_iy_i'\\text{log}(y_i) $$\n",
    "\n",
    "$y_i$ is the true class membership of observation $i$, and $y_i'$ is the class that our classifier predicts. We want to minimize cross-entropy.\n"
   ]
  },
  {
   "cell_type": "code",
   "execution_count": 7,
   "metadata": {
    "collapsed": true
   },
   "outputs": [],
   "source": [
    "# Run Session #\n",
    "#-------------#\n",
    "sess = tf.Session()\n",
    "sess.run(init) # initialize variables\n",
    "for i in range(2000): # 1000 gradient descent steps\n",
    "    batch_xs, batch_ys = mnist.train.next_batch(100) # Gets a subset of data - 100 samples\n",
    "    sess.run(train_step, feed_dict={x: batch_xs, y_: batch_ys})"
   ]
  },
  {
   "cell_type": "code",
   "execution_count": 8,
   "metadata": {
    "collapsed": false
   },
   "outputs": [
    {
     "name": "stdout",
     "output_type": "stream",
     "text": [
      "0.9203\n"
     ]
    }
   ],
   "source": [
    "# Evaluate model #\n",
    "# Append an evaluation step to the graph, then run it\n",
    "correct_prediction = tf.equal(tf.argmax(y,1), tf.argmax(y_, 1)) # Boolean vector on (correct prediction?)\n",
    "# argmax returns index of largest value along index\n",
    "# remember that y is a matrix, where each row (axis 1) corresponds to a series of estimated class membership\n",
    "# probabilities\n",
    "accuracy = tf.reduce_mean(tf.cast(correct_prediction, tf.float32))\n",
    "print(sess.run(accuracy, feed_dict={x:mnist.test.images, y_: mnist.test.labels}))"
   ]
  }
 ],
 "metadata": {
  "anaconda-cloud": {},
  "kernelspec": {
   "display_name": "Python [default]",
   "language": "python",
   "name": "python3"
  },
  "language_info": {
   "codemirror_mode": {
    "name": "ipython",
    "version": 3
   },
   "file_extension": ".py",
   "mimetype": "text/x-python",
   "name": "python",
   "nbconvert_exporter": "python",
   "pygments_lexer": "ipython3",
   "version": "3.5.2"
  }
 },
 "nbformat": 4,
 "nbformat_minor": 1
}
